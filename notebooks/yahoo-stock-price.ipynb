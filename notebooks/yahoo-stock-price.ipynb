{
 "cells": [
  {
   "cell_type": "code",
   "execution_count": 14,
   "metadata": {},
   "outputs": [],
   "source": [
    "import pandas as pd\n",
    "from pyspark.sql import SparkSession\n",
    "import pyspark.sql.functions as F"
   ]
  },
  {
   "cell_type": "code",
   "execution_count": 3,
   "metadata": {},
   "outputs": [],
   "source": [
    "dfs = pd.read_html('https://au.finance.yahoo.com/quote/WBK/history?p=WBK')"
   ]
  },
  {
   "cell_type": "code",
   "execution_count": 4,
   "metadata": {},
   "outputs": [
    {
     "data": {
      "text/plain": [
       "1"
      ]
     },
     "execution_count": 4,
     "metadata": {},
     "output_type": "execute_result"
    }
   ],
   "source": [
    "len(dfs)"
   ]
  },
  {
   "cell_type": "code",
   "execution_count": 9,
   "metadata": {},
   "outputs": [],
   "source": [
    "spark = SparkSession.builder.master('local').appName('stock-price-analysis').getOrCreate()"
   ]
  },
  {
   "cell_type": "code",
   "execution_count": 10,
   "metadata": {},
   "outputs": [],
   "source": [
    "wbk = spark.createDataFrame(dfs[0])"
   ]
  },
  {
   "cell_type": "code",
   "execution_count": 11,
   "metadata": {},
   "outputs": [
    {
     "name": "stdout",
     "output_type": "stream",
     "text": [
      "+-----------+-----+-----+-----+------+------------+-------+\n",
      "|       Date| Open| High|  Low|Close*|Adj. close**| Volume|\n",
      "+-----------+-----+-----+-----+------+------------+-------+\n",
      "|23 Jun 2020|12.75|12.77|12.58| 12.61|       12.61| 372500|\n",
      "|22 Jun 2020|12.50|12.67|12.45| 12.60|       12.60| 353100|\n",
      "|19 Jun 2020|12.54|12.58|12.22| 12.28|       12.28| 291500|\n",
      "|18 Jun 2020|12.33|12.53|12.32| 12.40|       12.40| 249800|\n",
      "|17 Jun 2020|12.58|12.58|12.27| 12.31|       12.31| 297800|\n",
      "|16 Jun 2020|12.77|12.78|12.34| 12.58|       12.58| 567400|\n",
      "|15 Jun 2020|11.96|12.41|11.90| 12.30|       12.30| 367400|\n",
      "|12 Jun 2020|12.52|12.56|12.08| 12.33|       12.33| 383700|\n",
      "|11 Jun 2020|12.64|12.65|12.09| 12.12|       12.12| 523600|\n",
      "|10 Jun 2020|13.60|13.64|13.35| 13.47|       13.47| 549800|\n",
      "|09 Jun 2020|13.67|13.74|13.48| 13.55|       13.55| 516900|\n",
      "|08 Jun 2020|13.47|13.68|13.41| 13.66|       13.66| 316100|\n",
      "|05 Jun 2020|13.52|13.82|13.37| 13.46|       13.46| 537900|\n",
      "|04 Jun 2020|12.61|12.84|12.51| 12.81|       12.81| 423700|\n",
      "|03 Jun 2020|12.24|12.67|12.24| 12.58|       12.58| 366700|\n",
      "|02 Jun 2020|11.81|11.95|11.78| 11.89|       11.89| 670200|\n",
      "|01 Jun 2020|11.38|11.81|11.37| 11.80|       11.80| 398600|\n",
      "|29 May 2020|11.51|11.51|11.15| 11.36|       11.36| 719200|\n",
      "|28 May 2020|12.08|12.18|11.97| 12.04|       12.04| 896300|\n",
      "|27 May 2020|11.79|11.99|11.63| 11.89|       11.89|1082000|\n",
      "+-----------+-----+-----+-----+------+------------+-------+\n",
      "only showing top 20 rows\n",
      "\n"
     ]
    }
   ],
   "source": [
    "wbk.show()"
   ]
  },
  {
   "cell_type": "code",
   "execution_count": 12,
   "metadata": {},
   "outputs": [
    {
     "name": "stdout",
     "output_type": "stream",
     "text": [
      "root\n",
      " |-- Date: string (nullable = true)\n",
      " |-- Open: string (nullable = true)\n",
      " |-- High: string (nullable = true)\n",
      " |-- Low: string (nullable = true)\n",
      " |-- Close*: string (nullable = true)\n",
      " |-- Adj. close**: string (nullable = true)\n",
      " |-- Volume: string (nullable = true)\n",
      "\n"
     ]
    }
   ],
   "source": [
    "wbk.printSchema()"
   ]
  },
  {
   "cell_type": "code",
   "execution_count": 17,
   "metadata": {},
   "outputs": [
    {
     "name": "stdout",
     "output_type": "stream",
     "text": [
      "+------------+\n",
      "|Adj. close**|\n",
      "+------------+\n",
      "|       12.61|\n",
      "|       12.60|\n",
      "|       12.28|\n",
      "|       12.40|\n",
      "|       12.31|\n",
      "|       12.58|\n",
      "|       12.30|\n",
      "|       12.33|\n",
      "|       12.12|\n",
      "|       13.47|\n",
      "|       13.55|\n",
      "|       13.66|\n",
      "|       13.46|\n",
      "|       12.81|\n",
      "|       12.58|\n",
      "|       11.89|\n",
      "|       11.80|\n",
      "|       11.36|\n",
      "|       12.04|\n",
      "|       11.89|\n",
      "+------------+\n",
      "only showing top 20 rows\n",
      "\n"
     ]
    }
   ],
   "source": [
    "wbk.select('`Adj. close**`').show()"
   ]
  },
  {
   "cell_type": "code",
   "execution_count": 18,
   "metadata": {},
   "outputs": [],
   "source": [
    "import importlib"
   ]
  },
  {
   "cell_type": "code",
   "execution_count": 19,
   "metadata": {},
   "outputs": [
    {
     "ename": "ModuleNotFoundError",
     "evalue": "No module named 'stringcase'",
     "output_type": "error",
     "traceback": [
      "\u001b[0;31m---------------------------------------------------------------------------\u001b[0m",
      "\u001b[0;31mModuleNotFoundError\u001b[0m                       Traceback (most recent call last)",
      "\u001b[0;32m<ipython-input-19-21c01010183f>\u001b[0m in \u001b[0;36m<module>\u001b[0;34m\u001b[0m\n\u001b[0;32m----> 1\u001b[0;31m \u001b[0;32mimport\u001b[0m \u001b[0mstringcase\u001b[0m\u001b[0;34m\u001b[0m\u001b[0;34m\u001b[0m\u001b[0m\n\u001b[0m",
      "\u001b[0;31mModuleNotFoundError\u001b[0m: No module named 'stringcase'"
     ]
    }
   ],
   "source": [
    "import stringcase"
   ]
  },
  {
   "cell_type": "code",
   "execution_count": null,
   "metadata": {},
   "outputs": [],
   "source": []
  }
 ],
 "metadata": {
  "kernelspec": {
   "display_name": "Python 3",
   "language": "python",
   "name": "python3"
  },
  "language_info": {
   "codemirror_mode": {
    "name": "ipython",
    "version": 3
   },
   "file_extension": ".py",
   "mimetype": "text/x-python",
   "name": "python",
   "nbconvert_exporter": "python",
   "pygments_lexer": "ipython3",
   "version": "3.7.4"
  }
 },
 "nbformat": 4,
 "nbformat_minor": 4
}
